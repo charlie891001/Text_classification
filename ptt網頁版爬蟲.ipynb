{
 "cells": [
  {
   "cell_type": "markdown",
   "metadata": {},
   "source": [
    "# 爬取ptt一個看板的最新文章"
   ]
  },
  {
   "cell_type": "markdown",
   "metadata": {},
   "source": [
    "各爬20頁，爬取不同看板的文章需要改url"
   ]
  },
  {
   "cell_type": "code",
   "execution_count": 1,
   "metadata": {},
   "outputs": [],
   "source": [
    "import pandas as pd\n",
    "import requests\n",
    "import urllib.request as req\n",
    "import json\n",
    "from bs4 import BeautifulSoup\n",
    "import requests.packages.urllib3\n",
    "import json\n",
    "import re\n",
    "\n",
    "requests.packages.urllib3.disable_warnings() #使用 requests 時發生 InsecureRequestWarning: Unverified HTTPS request is being made"
   ]
  },
  {
   "cell_type": "code",
   "execution_count": 9,
   "metadata": {},
   "outputs": [],
   "source": [
    "def nextpage(url):\n",
    "    request = req.Request(url, headers = {\n",
    "        \"cookie\": \"over18=1\",    \n",
    "        \"user-agent\": \"Mozilla/5.0 (Windows NT 10.0; Win64; x64) AppleWebKit/537.36 (KHTML, like Gecko) Chrome/107.0.0.0 Safari/537.36\"\n",
    "    })\n",
    "    with req.urlopen(request) as response:\n",
    "        data = response.read().decode(\"utf-8\")\n",
    "    \n",
    "    soup = BeautifulSoup(data, \"html.parser\")\n",
    "    link = soup.find_all('a', class_='btn wide')[1]['href']\n",
    "    link = 'https://www.ptt.cc' + link\n",
    "\n",
    "    return link"
   ]
  },
  {
   "cell_type": "code",
   "execution_count": 23,
   "metadata": {},
   "outputs": [
    {
     "name": "stdout",
     "output_type": "stream",
     "text": [
      "第1頁\n",
      "第2頁\n",
      "第3頁\n",
      "第4頁\n",
      "第5頁\n",
      "第6頁\n",
      "第7頁\n",
      "第8頁\n",
      "第9頁\n",
      "第10頁\n",
      "第11頁\n",
      "第12頁\n",
      "第13頁\n",
      "第14頁\n",
      "第15頁\n",
      "第16頁\n",
      "第17頁\n",
      "第18頁\n",
      "第19頁\n",
      "第20頁\n"
     ]
    }
   ],
   "source": [
    "import time\n",
    "title = []\n",
    "board = []\n",
    "url = 'https://www.ptt.cc/bbs/HatePolitics/index.html'\n",
    "for page in range(1, 21):\n",
    "    request = req.Request(url, headers = {\n",
    "        \"cookie\": \"over18=1\",    \n",
    "        \"user-agent\": \"Mozilla/5.0 (Windows NT 10.0; Win64; x64) AppleWebKit/537.36 (KHTML, like Gecko) Chrome/107.0.0.0 Safari/537.36\"\n",
    "    })\n",
    "    with req.urlopen(request) as response:\n",
    "        data = response.read().decode(\"utf-8\")\n",
    "    \n",
    "    soup = BeautifulSoup(data, \"html.parser\")\n",
    "    titles = soup.find_all('div', class_= 'r-ent')\n",
    "    for i in titles:\n",
    "        if i.a != None:\n",
    "            title.append(i.a.string)\n",
    "            board.append('HatePolitics')\n",
    "        else:\n",
    "            pass\n",
    "    \n",
    "    url = nextpage(url)\n",
    "    print('第{}頁'.format(page))\n",
    "\n",
    "    \n",
    "\n",
    "dic = {\n",
    "    '標題': title,\n",
    "    '看板名稱': board\n",
    "}\n",
    "\n",
    "\n",
    "ptt_test5 = pd.DataFrame(dic)"
   ]
  },
  {
   "cell_type": "code",
   "execution_count": 24,
   "metadata": {},
   "outputs": [
    {
     "data": {
      "text/html": [
       "<div>\n",
       "<style scoped>\n",
       "    .dataframe tbody tr th:only-of-type {\n",
       "        vertical-align: middle;\n",
       "    }\n",
       "\n",
       "    .dataframe tbody tr th {\n",
       "        vertical-align: top;\n",
       "    }\n",
       "\n",
       "    .dataframe thead th {\n",
       "        text-align: right;\n",
       "    }\n",
       "</style>\n",
       "<table border=\"1\" class=\"dataframe\">\n",
       "  <thead>\n",
       "    <tr style=\"text-align: right;\">\n",
       "      <th></th>\n",
       "      <th>標題</th>\n",
       "      <th>看板名稱</th>\n",
       "    </tr>\n",
       "  </thead>\n",
       "  <tbody>\n",
       "    <tr>\n",
       "      <th>0</th>\n",
       "      <td>Re: [新聞] 幕後／民進黨員卻代表民眾黨與國民黨談「</td>\n",
       "      <td>HatePolitics</td>\n",
       "    </tr>\n",
       "    <tr>\n",
       "      <th>1</th>\n",
       "      <td>[黑特] 台灣的食安是世界級笑話嗎?</td>\n",
       "      <td>HatePolitics</td>\n",
       "    </tr>\n",
       "    <tr>\n",
       "      <th>2</th>\n",
       "      <td>Re: [討論] 賴清德願意被大學生洗臉是加分扣分？</td>\n",
       "      <td>HatePolitics</td>\n",
       "    </tr>\n",
       "    <tr>\n",
       "      <th>3</th>\n",
       "      <td>Re: [討論] 如果桃園市長現在是林智堅？</td>\n",
       "      <td>HatePolitics</td>\n",
       "    </tr>\n",
       "    <tr>\n",
       "      <th>4</th>\n",
       "      <td>Re: [新聞] 快訊／為藍白合再拋「折衷方案」　侯友宜</td>\n",
       "      <td>HatePolitics</td>\n",
       "    </tr>\n",
       "    <tr>\n",
       "      <th>...</th>\n",
       "      <td>...</td>\n",
       "      <td>...</td>\n",
       "    </tr>\n",
       "    <tr>\n",
       "      <th>377</th>\n",
       "      <td>Re: [新聞] 侯競辦關公像青龍偃月刀 突倒下落地引揣</td>\n",
       "      <td>HatePolitics</td>\n",
       "    </tr>\n",
       "    <tr>\n",
       "      <th>378</th>\n",
       "      <td>Re: [討論] 這絕對是謊話吧！</td>\n",
       "      <td>HatePolitics</td>\n",
       "    </tr>\n",
       "    <tr>\n",
       "      <th>379</th>\n",
       "      <td>[黑特] 藍白合到底是要演給誰看的</td>\n",
       "      <td>HatePolitics</td>\n",
       "    </tr>\n",
       "    <tr>\n",
       "      <th>380</th>\n",
       "      <td>Re: [新聞] 快訊／民眾黨堅持全民調　金溥聰：若只</td>\n",
       "      <td>HatePolitics</td>\n",
       "    </tr>\n",
       "    <tr>\n",
       "      <th>381</th>\n",
       "      <td>[討論] 113哪個黨最有可能輸不起</td>\n",
       "      <td>HatePolitics</td>\n",
       "    </tr>\n",
       "  </tbody>\n",
       "</table>\n",
       "<p>382 rows × 2 columns</p>\n",
       "</div>"
      ],
      "text/plain": [
       "                               標題          看板名稱\n",
       "0    Re: [新聞] 幕後／民進黨員卻代表民眾黨與國民黨談「  HatePolitics\n",
       "1              [黑特] 台灣的食安是世界級笑話嗎?  HatePolitics\n",
       "2      Re: [討論] 賴清德願意被大學生洗臉是加分扣分？  HatePolitics\n",
       "3          Re: [討論] 如果桃園市長現在是林智堅？  HatePolitics\n",
       "4    Re: [新聞] 快訊／為藍白合再拋「折衷方案」　侯友宜  HatePolitics\n",
       "..                            ...           ...\n",
       "377  Re: [新聞] 侯競辦關公像青龍偃月刀 突倒下落地引揣  HatePolitics\n",
       "378             Re: [討論] 這絕對是謊話吧！  HatePolitics\n",
       "379             [黑特] 藍白合到底是要演給誰看的  HatePolitics\n",
       "380   Re: [新聞] 快訊／民眾黨堅持全民調　金溥聰：若只  HatePolitics\n",
       "381            [討論] 113哪個黨最有可能輸不起  HatePolitics\n",
       "\n",
       "[382 rows x 2 columns]"
      ]
     },
     "execution_count": 24,
     "metadata": {},
     "output_type": "execute_result"
    }
   ],
   "source": [
    "ptt_test5"
   ]
  },
  {
   "cell_type": "markdown",
   "metadata": {},
   "source": [
    "## =========測試區(ptt網頁版爬蟲)=========="
   ]
  },
  {
   "cell_type": "code",
   "execution_count": 2,
   "metadata": {},
   "outputs": [],
   "source": [
    "url = 'https://www.pttweb.cc/hot/all/today'\n",
    "request = req.Request(url, headers = {\n",
    "    \"cookie\": \"over18=1\",    \n",
    "    \"user-agent\": \"Mozilla/5.0 (Windows NT 10.0; Win64; x64) AppleWebKit/537.36 (KHTML, like Gecko) Chrome/107.0.0.0 Safari/537.36\"\n",
    "})\n",
    "with req.urlopen(request) as response:\n",
    "    data = response.read().decode(\"utf-8\")"
   ]
  },
  {
   "cell_type": "code",
   "execution_count": 35,
   "metadata": {},
   "outputs": [],
   "source": [
    "soup = BeautifulSoup(data, \"html.parser\")\n",
    "x = soup.find_all('span', class_= 'e7-show-if-device-is-xs')\n",
    "y = soup.find_all('span', class_= '__e7-full-title-appended-part')\n",
    "xy = dict(zip(x, y))"
   ]
  },
  {
   "cell_type": "code",
   "execution_count": null,
   "metadata": {},
   "outputs": [],
   "source": [
    "lis = []\n",
    "for t, d in xy.items():\n",
    "    l = t.getText() + d.getText()\n",
    "    l = l.replace(' ', '')\n",
    "    l = l.replace('\\n', '')\n",
    "    l = l.replace('\\u3000', '')\n",
    "    lis.append(l)"
   ]
  },
  {
   "cell_type": "code",
   "execution_count": 55,
   "metadata": {},
   "outputs": [
    {
     "data": {
      "text/plain": [
       "['[推投]最婆大會名人堂高木同學VSSPW',\n",
       " 'Re:消防局遭噴漆Metoo！分隊長兒子前女友幹的感情糾紛多次陳情',\n",
       " '[推投]最婆大會名人堂撫子VS結衣',\n",
       " '快訊／全文曝光！柯文哲回絕侯友宜列4點批「民主初選」為封閉式選舉',\n",
       " '志祺整形花200萬划算嗎？',\n",
       " 'UN嘆加薩陷人道危機以色列怒：替世界除害應受讚揚',\n",
       " '怒灌區2',\n",
       " '志祺77整形後PR有多少',\n",
       " '民眾黨堅持全民調金溥聰喊無言：柯文哲曾說過民調都是買的',\n",
       " '藍白合破局？柯文哲開嗆侯友宜：讓給你選也不會上',\n",
       " '屏東棒球場造價25億！貴嗎????',\n",
       " '快訊／時力公布2024大選不分區名單首位安樂死提案人、宋國鼎入列',\n",
       " '「讓給侯友宜也不會上」柯文哲：原諒我講話就是這麼直',\n",
       " '洗產地「玉釩食品」捐款民進黨籍參選人',\n",
       " '時代力量公布不分區立委名單王婉諭：目標保5力拚8席',\n",
       " '快訊／破局？金溥聰嗆柯文哲別再牽拖「全民調會有很大誤差」',\n",
       " '柯文哲酸侯友宜：搞不好我讓給你選「你也不會上」',\n",
       " '兵源不足義務役恐成主戰兵力',\n",
       " '各行各業都缺人，那人都去哪邊工作了?',\n",
       " '台灣泡麵為啥不用這種倒水口？',\n",
       " '金溥聰嘆白營「說翻臉就翻臉」她爆柯文哲：2018跟民進黨也是一晚撕破臉',\n",
       " '這是假消息！！網傳「高端流感疫苗沒有做第三期臨床試驗」',\n",
       " '基隆角頭母親出殯柯文哲、郭台銘、林右昌都到場弔唁',\n",
       " '一人一句「情緒勒索」常見的台詞',\n",
       " '不放棄藍白合金溥聰喊話「二會」：時間地點全力配合柯文哲',\n",
       " '謝謝楓堂',\n",
       " '多慧居然代言台灣三星==？',\n",
       " '拜登喊話：以色列占領加薩走廊將是「重大錯誤」最快本周訪以',\n",
       " '又洗產地8532公斤美豬流向6縣市',\n",
       " '女兒上大學「要跟男友同居」爸傻眼：不會影響學習？',\n",
       " '不解柯文哲說翻臉就翻臉！金溥聰：不要以一己之心度他人之腹',\n",
       " '柯文哲反對「下架民進黨」金溥聰反嗆：你自己也說過',\n",
       " '[Vtub]Hololive晚間直播單(1121015)',\n",
       " '柯:老人不承認被民進黨騙40年才不支持我',\n",
       " '主計總處薪資平均為56,295元是真的嗎??',\n",
       " '大陸男子偷渡駕動力舢舨「成功」登陸台灣通霄',\n",
       " '時代力量公布8名不分區！王婉諭親曝目標：力保5席、上拼8席',\n",
       " '大陸團客今年不會來！對岸「已讀不回」',\n",
       " '快訊／酸金溥聰「沒想合作」柯文哲：國民黨方法無法找出最強候選人',\n",
       " 'WZH林威助再度現身!跟「上古神獸」陳義',\n",
       " '韓國免費撤僑日本撤僑要收三萬避難費',\n",
       " '幹你娘！柯文哲回答問題的方式好像邪教',\n",
       " '間諜家家酒88話',\n",
       " '上BBC被主持人逼譴責哈瑪斯巴勒斯坦大使嗆：我死了6親人',\n",
       " '剁雞直播中竟有人偷雞翅！婦人趁亂拿走',\n",
       " '小時候以為舊版獵人是正常水準，誰知...',\n",
       " '美國房東猛刺6歲童26刀！刀刀透體而出',\n",
       " '國旅最廢景點「水往上流」遭點名兩派人戰翻',\n",
       " '藍白合整合無共識藍委陳玉珍：沒談成就是再當4年在野']"
      ]
     },
     "execution_count": 55,
     "metadata": {},
     "output_type": "execute_result"
    }
   ],
   "source": [
    "lis"
   ]
  }
 ],
 "metadata": {
  "kernelspec": {
   "display_name": "Python 3",
   "language": "python",
   "name": "python3"
  },
  "language_info": {
   "codemirror_mode": {
    "name": "ipython",
    "version": 3
   },
   "file_extension": ".py",
   "mimetype": "text/x-python",
   "name": "python",
   "nbconvert_exporter": "python",
   "pygments_lexer": "ipython3",
   "version": "3.9.6"
  },
  "orig_nbformat": 4
 },
 "nbformat": 4,
 "nbformat_minor": 2
}
